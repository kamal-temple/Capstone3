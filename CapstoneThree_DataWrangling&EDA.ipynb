{
 "cells": [
  {
   "cell_type": "code",
   "execution_count": 1,
   "id": "8e0255f3",
   "metadata": {},
   "outputs": [
    {
     "name": "stderr",
     "output_type": "stream",
     "text": [
      "2023-12-12 19:38:37.565326: I tensorflow/core/platform/cpu_feature_guard.cc:182] This TensorFlow binary is optimized to use available CPU instructions in performance-critical operations.\n",
      "To enable the following instructions: AVX2 FMA, in other operations, rebuild TensorFlow with the appropriate compiler flags.\n"
     ]
    }
   ],
   "source": [
    "import numpy as np\n",
    "import matplotlib.pyplot as plt\n",
    "import seaborn as sns\n",
    "import pandas as pd\n",
    "import tensorflow as tf"
   ]
  },
  {
   "cell_type": "markdown",
   "id": "c58ebdd8",
   "metadata": {},
   "source": [
    "## Data Wrangling"
   ]
  },
  {
   "cell_type": "code",
   "execution_count": 2,
   "id": "9cf14418",
   "metadata": {},
   "outputs": [],
   "source": [
    "import os\n",
    "from tensorflow.keras import layers, models\n",
    "from tensorflow.keras.preprocessing.image import ImageDataGenerator, img_to_array, load_img\n",
    "import cv2"
   ]
  },
  {
   "cell_type": "code",
   "execution_count": 3,
   "id": "1ca7c7dd",
   "metadata": {},
   "outputs": [],
   "source": [
    "base_dir = '/Users/sabitabaral/Documents/Springboard/capstone3/Data'\n",
    "target_width, target_height = 100, 100\n",
    "batch_size = 10\n",
    "for data_type in os.listdir(base_dir):\n",
    "    data_type_path = os.path.join(base_dir, data_type)\n",
    "    \n",
    "    # Ensure it's a directory (not a system file)\n",
    "    if os.path.isdir(data_type_path) and not data_type.startswith('.'):\n",
    "        # Loop through each class in the data type\n",
    "        for class_name in os.listdir(data_type_path):\n",
    "            class_path = os.path.join(data_type_path, class_name)\n",
    "            \n",
    "            # Ensure it's a directory (not a system file)\n",
    "            if os.path.isdir(class_path) and not class_name.startswith('.'):\n",
    "                # Loop through each file in the class\n",
    "                for filename in os.listdir(class_path):\n",
    "                    filepath = os.path.join(class_path, filename)\n",
    "\n",
    "                    # Check if it's a file (not a subdirectory)\n",
    "                    if os.path.isfile(filepath):\n",
    "                        # Read the image\n",
    "                        img = cv2.imread(filepath)\n",
    "\n",
    "                        # Resize the image\n",
    "                        img_resized = cv2.resize(img, (target_width, target_height))\n",
    "                        # Save or overwrite the resized image\n",
    "                        cv2.imwrite(filepath, img_resized)"
   ]
  },
  {
   "cell_type": "code",
   "execution_count": 4,
   "id": "3c9744e8",
   "metadata": {},
   "outputs": [
    {
     "name": "stdout",
     "output_type": "stream",
     "text": [
      "Found 491 images belonging to 4 classes.\n"
     ]
    }
   ],
   "source": [
    "datagen = ImageDataGenerator(\n",
    "    rescale=1./255,\n",
    "    validation_split=0.2,\n",
    "    rotation_range=20,\n",
    "    width_shift_range=0.2,\n",
    "    height_shift_range=0.2,\n",
    "    shear_range=0.2,\n",
    "    zoom_range=0.2,\n",
    "    horizontal_flip=True,\n",
    "    fill_mode='nearest'\n",
    ")\n",
    "\n",
    "# Create generators for training, validation, and test sets\n",
    "train_generator = datagen.flow_from_directory(\n",
    "    os.path.join(base_dir, 'train'),\n",
    "    target_size=(target_width, target_height),\n",
    "    batch_size=batch_size,\n",
    "    class_mode='categorical',  # Since you have multiple classes\n",
    "    subset='training'  # Specify 'training' for the training set\n",
    ")"
   ]
  },
  {
   "cell_type": "code",
   "execution_count": 5,
   "id": "55a94598",
   "metadata": {},
   "outputs": [
    {
     "name": "stdout",
     "output_type": "stream",
     "text": [
      "Found 13 images belonging to 4 classes.\n",
      "Found 315 images belonging to 4 classes.\n"
     ]
    }
   ],
   "source": [
    "validation_generator = datagen.flow_from_directory(\n",
    "    os.path.join(base_dir, 'valid'),\n",
    "    target_size=(target_width, target_height),\n",
    "    batch_size=batch_size,\n",
    "    class_mode='categorical',\n",
    "    subset='validation'  # Specify 'validation' for the validation set\n",
    ")\n",
    "\n",
    "test_generator = datagen.flow_from_directory(\n",
    "    os.path.join(base_dir, 'test'),\n",
    "    target_size=(target_width, target_height),\n",
    "    batch_size=batch_size,\n",
    "    class_mode='categorical',\n",
    "    shuffle=False  # Set shuffle to False for test set\n",
    ")"
   ]
  },
  {
   "cell_type": "markdown",
   "id": "4c88496b",
   "metadata": {},
   "source": [
    "## Exploratory Data Analysis"
   ]
  },
  {
   "cell_type": "code",
   "execution_count": null,
   "id": "022adb97",
   "metadata": {},
   "outputs": [],
   "source": [
    "from PIL import Image\n",
    "import random"
   ]
  },
  {
   "cell_type": "code",
   "execution_count": null,
   "id": "a4032a51",
   "metadata": {},
   "outputs": [],
   "source": [
    "def display_random_images(data_path, classes, num_images=3):\n",
    "    for class_name in classes:\n",
    "        class_path = os.path.join(data_path, class_name)\n",
    "        image_files = os.listdir(class_path)\n",
    "        random_images = random.sample(image_files, num_images)\n",
    "\n",
    "        plt.figure(figsize=(10, 4))\n",
    "        for i, image_file in enumerate(random_images, 1):\n",
    "            image_path = os.path.join(class_path, image_file)\n",
    "            img = Image.open(image_path)\n",
    "            \n",
    "            plt.subplot(1, num_images, i)\n",
    "            plt.imshow(img)\n",
    "            plt.title(f'{class_name} - {i}')\n",
    "            plt.axis('off')\n",
    "        plt.show()"
   ]
  },
  {
   "cell_type": "code",
   "execution_count": null,
   "id": "3d77acd8",
   "metadata": {},
   "outputs": [],
   "source": [
    "classes = os.listdir(train_data_path)\n",
    "display_random_images(train_data_path, classes)"
   ]
  },
  {
   "cell_type": "code",
   "execution_count": null,
   "id": "73ca1be1",
   "metadata": {},
   "outputs": [],
   "source": [
    "## see class distribution\n",
    "class_counts = {class_name: len(os.listdir(os.path.join(train_data_path, class_name))) for class_name in classes}\n",
    "plt.bar(class_counts.keys(), class_counts.values())\n",
    "plt.title('Class Distribution')\n",
    "plt.xlabel('Class')\n",
    "plt.ylabel('Number of Samples')\n",
    "plt.xticks(rotation=90)\n",
    "plt.show()"
   ]
  },
  {
   "cell_type": "code",
   "execution_count": null,
   "id": "0695ceda",
   "metadata": {},
   "outputs": [],
   "source": [
    "## Image size distribution\n",
    "def get_image_sizes(data_path, classes):\n",
    "    sizes = []\n",
    "    for class_name in classes:\n",
    "        class_path = os.path.join(data_path, class_name)\n",
    "        for image_file in os.listdir(class_path):\n",
    "            image_path = os.path.join(class_path, image_file)\n",
    "            img = Image.open(image_path)\n",
    "            sizes.append(img.size)\n",
    "    return sizes\n",
    "\n",
    "# Get image sizes\n",
    "image_sizes = get_image_sizes(train_data_path, classes)\n",
    "\n",
    "# Plot histograms of image sizes\n",
    "widths, heights = zip(*image_sizes)\n",
    "plt.hist(widths, bins=30, alpha=0.5, label='Width')\n",
    "plt.hist(heights, bins=30, alpha=0.5, label='Height')\n",
    "plt.legend()\n",
    "plt.title('Image Size Distribution')\n",
    "plt.xlabel('Size')\n",
    "plt.ylabel('Frequency')\n",
    "plt.show()"
   ]
  },
  {
   "cell_type": "markdown",
   "id": "6a521849",
   "metadata": {},
   "source": [
    "#### All images has same size, which is good"
   ]
  },
  {
   "cell_type": "code",
   "execution_count": null,
   "id": "97d8f9f6",
   "metadata": {},
   "outputs": [],
   "source": [
    "## pixel indensity distribution\n",
    "from PIL import Image\n",
    "def get_pixel_intensities(image):\n",
    "    # Convert the image to grayscale if it's in color\n",
    "    if image.mode != 'L':\n",
    "        image = image.convert('L')\n",
    "\n",
    "    # Get pixel intensities\n",
    "    intensities = list(image.getdata())\n",
    "    \n",
    "    return intensities\n",
    "\n",
    "# Example usage:\n",
    "class_path = os.path.join(train_data_path, class_name)\n",
    "image_file = random.choice(os.listdir(class_path))\n",
    "image_path = os.path.join(class_path, image_file)\n",
    "img = Image.open(image_path)\n",
    "\n",
    "pixel_intensities = get_pixel_intensities(img)\n",
    "print(pixel_intensities)\n",
    "\n",
    "# Plot histogram of pixel intensities\n",
    "plt.hist(pixel_intensities, bins=256, range=(0, 256), density=True, histtype='step', color='black')\n",
    "plt.title('Pixel Intensity Distribution')\n",
    "plt.xlabel('Pixel Intensity')\n",
    "plt.ylabel('Frequency')\n",
    "plt.show()"
   ]
  },
  {
   "cell_type": "code",
   "execution_count": null,
   "id": "aab8bf05",
   "metadata": {},
   "outputs": [],
   "source": [
    "print(img.mode)"
   ]
  },
  {
   "cell_type": "code",
   "execution_count": null,
   "id": "bb37b5a3",
   "metadata": {},
   "outputs": [],
   "source": [
    "img.split()"
   ]
  },
  {
   "cell_type": "markdown",
   "id": "fbde7d43",
   "metadata": {},
   "source": [
    "### Looks like images are grayscale"
   ]
  }
 ],
 "metadata": {
  "kernelspec": {
   "display_name": "Python 3 (ipykernel)",
   "language": "python",
   "name": "python3"
  },
  "language_info": {
   "codemirror_mode": {
    "name": "ipython",
    "version": 3
   },
   "file_extension": ".py",
   "mimetype": "text/x-python",
   "name": "python",
   "nbconvert_exporter": "python",
   "pygments_lexer": "ipython3",
   "version": "3.9.13"
  }
 },
 "nbformat": 4,
 "nbformat_minor": 5
}
